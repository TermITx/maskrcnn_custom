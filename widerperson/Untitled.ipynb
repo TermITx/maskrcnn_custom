{
 "cells": [
  {
   "cell_type": "code",
   "execution_count": 1,
   "id": "dcc25495",
   "metadata": {},
   "outputs": [],
   "source": [
    "import os\n",
    "import shutil"
   ]
  },
  {
   "cell_type": "code",
   "execution_count": 7,
   "id": "cbac307a",
   "metadata": {},
   "outputs": [],
   "source": [
    "os.mkdir('ValImages')\n",
    "with open('val.txt', 'r') as fr:\n",
    "    for line in fr.readlines():\n",
    "        shutil.copy('Images/' + str(line.strip()) + '.jpg',  'ValImages/' + str(line.strip()) + '.jpg')  "
   ]
  },
  {
   "cell_type": "code",
   "execution_count": null,
   "id": "e8228d64",
   "metadata": {},
   "outputs": [],
   "source": []
  }
 ],
 "metadata": {
  "kernelspec": {
   "display_name": "Python 3 (ipykernel)",
   "language": "python",
   "name": "python3"
  },
  "language_info": {
   "codemirror_mode": {
    "name": "ipython",
    "version": 3
   },
   "file_extension": ".py",
   "mimetype": "text/x-python",
   "name": "python",
   "nbconvert_exporter": "python",
   "pygments_lexer": "ipython3",
   "version": "3.9.5"
  }
 },
 "nbformat": 4,
 "nbformat_minor": 5
}
